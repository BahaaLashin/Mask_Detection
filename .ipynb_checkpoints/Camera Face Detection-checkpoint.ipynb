{
 "cells": [
  {
   "cell_type": "code",
   "execution_count": 1,
   "metadata": {},
   "outputs": [
    {
     "name": "stderr",
     "output_type": "stream",
     "text": [
      "Using TensorFlow backend.\n"
     ]
    }
   ],
   "source": [
    "import cv2 as cv\n",
    "import numpy as np\n",
    "import string\n",
    "import random\n",
    "import matplotlib.pyplot as plt\n",
    "import ctypes \n",
    "import os\n",
    "import pandas as pd\n",
    "from keras.models import Sequential\n",
    "from keras.layers import Convolution2D\n",
    "from keras.layers import MaxPool2D\n",
    "from keras.layers import Flatten , Conv2D\n",
    "from keras.layers import Dense\n",
    "from keras.preprocessing.image import ImageDataGenerator"
   ]
  },
  {
   "cell_type": "code",
   "execution_count": 79,
   "metadata": {},
   "outputs": [],
   "source": [
    "# This function we use it to add new photos to DataSet folder\n",
    "def new_user(name):\n",
    "    \n",
    "    def id_generator(size=6, chars=string.ascii_uppercase + string.digits):\n",
    "        return ''.join(random.choice(chars) for _ in range(size))\n",
    "\n",
    "    def save_pic(event,x,y,flags,param):\n",
    "         if event == cv.EVENT_RBUTTONDOWN:\n",
    "                if not os.path.exists(\"DataSet\\\\\"+name):\n",
    "                    os.makedirs(\"DataSet\\\\\"+name)\n",
    "                image_name = \"DataSet\\\\\"+name+\"\\\\\"+id_generator()+\".jpg\"\n",
    "                cv.imwrite(image_name,img_copy)\n",
    "            \n",
    "    cap = cv.VideoCapture(0)\n",
    "    face_cascade = cv.CascadeClassifier('haarcascade_frontalface_default.xml')\n",
    "\n",
    "#     ctypes.windll.user32.MessageBoxW(0, \"right click in the frame to take a picture\", \"worinning\", 1)\n",
    "    cv.namedWindow(\"frame\")\n",
    "    cv.setMouseCallback(\"frame\",save_pic)\n",
    "    while True:\n",
    "        ret , frame = cap.read()\n",
    "        gray_frame = cv.cvtColor(frame,cv.COLOR_BGR2GRAY)\n",
    "        faces = face_cascade.detectMultiScale(frame, 1.1, 4)\n",
    "        for (x, y, w, h) in faces:\n",
    "            cv.rectangle(frame, (x, y), (x+w, y+h), (255, 0, 0), 2)\n",
    "            img_copy = frame[y: y + h, x :x + w ]\n",
    "        name = name\n",
    "        cv.imshow(\"frame\",frame)\n",
    "        if cv.waitKey(1) & 0xFF == ord('q'):\n",
    "            break\n",
    "    cap.release()\n",
    "    cv.destroyAllWindows()"
   ]
  },
  {
   "cell_type": "code",
   "execution_count": 5,
   "metadata": {},
   "outputs": [],
   "source": [
    "# new_user(\"Bahaa_with_mask\")"
   ]
  },
  {
   "cell_type": "code",
   "execution_count": 2,
   "metadata": {},
   "outputs": [
    {
     "name": "stdout",
     "output_type": "stream",
     "text": [
      "Found 1801 images belonging to 2 classes.\n",
      "Found 1801 images belonging to 2 classes.\n"
     ]
    }
   ],
   "source": [
    "# Part 2 data preprocessing import data and images augmentation\n",
    "\n",
    "train_datagen = ImageDataGenerator(\n",
    "        rescale=1./255,\n",
    "        shear_range=0.2,\n",
    "        zoom_range=0.2,\n",
    "        horizontal_flip=True)\n",
    "\n",
    "test_datagen = ImageDataGenerator(rescale=1./255)\n",
    "\n",
    "training_set = train_datagen.flow_from_directory(\n",
    "        'DataSet',\n",
    "        target_size=(256, 256),\n",
    "        batch_size=32,\n",
    "        class_mode='binary')\n",
    "\n",
    "test_set = test_datagen.flow_from_directory(\n",
    "        'DataSet',\n",
    "        target_size=(256, 256),\n",
    "        batch_size=32,\n",
    "        class_mode='binary')\n",
    "\n"
   ]
  },
  {
   "cell_type": "code",
   "execution_count": 17,
   "metadata": {},
   "outputs": [],
   "source": [
    "# Part 1 Create model Classification\n",
    "\n",
    "classifier = Sequential()\n"
   ]
  },
  {
   "cell_type": "code",
   "execution_count": 18,
   "metadata": {},
   "outputs": [
    {
     "name": "stderr",
     "output_type": "stream",
     "text": [
      "C:\\Users\\Geek\\Anaconda3\\lib\\site-packages\\ipykernel_launcher.py:2: UserWarning: Update your `Conv2D` call to the Keras 2 API: `Conv2D(64, (3, 3), input_shape=(256, 256,..., activation=\"relu\")`\n",
      "  \n",
      "C:\\Users\\Geek\\Anaconda3\\lib\\site-packages\\ipykernel_launcher.py:3: UserWarning: Update your `Conv2D` call to the Keras 2 API: `Conv2D(64, (3, 3), input_shape=(256, 256,..., activation=\"relu\")`\n",
      "  This is separate from the ipykernel package so we can avoid doing imports until\n",
      "C:\\Users\\Geek\\Anaconda3\\lib\\site-packages\\ipykernel_launcher.py:4: UserWarning: Update your `Conv2D` call to the Keras 2 API: `Conv2D(64, (3, 3), input_shape=(256, 256,..., activation=\"relu\")`\n",
      "  after removing the cwd from sys.path.\n"
     ]
    }
   ],
   "source": [
    "# Step 1 Convolution layer\n",
    "classifier.add(Convolution2D(64,3,3,input_shape=(256, 256, 3),activation='relu')) \n",
    "classifier.add(Convolution2D(64,3,3,input_shape=(256, 256, 3),activation='relu')) \n",
    "classifier.add(Convolution2D(64,3,3,input_shape=(256, 256, 3),activation='relu')) \n"
   ]
  },
  {
   "cell_type": "code",
   "execution_count": 19,
   "metadata": {},
   "outputs": [],
   "source": [
    "# Step 2 Max Pooling\n",
    "classifier.add(MaxPool2D(pool_size=(2,2)))\n",
    "classifier.add(MaxPool2D(pool_size=(2,2)))\n",
    "classifier.add(MaxPool2D(pool_size=(2,2)))\n"
   ]
  },
  {
   "cell_type": "code",
   "execution_count": 20,
   "metadata": {},
   "outputs": [],
   "source": [
    "# Add Images To flatten Layer \n",
    "classifier.add(Flatten())"
   ]
  },
  {
   "cell_type": "code",
   "execution_count": 21,
   "metadata": {},
   "outputs": [
    {
     "name": "stderr",
     "output_type": "stream",
     "text": [
      "C:\\Users\\Geek\\Anaconda3\\lib\\site-packages\\ipykernel_launcher.py:3: UserWarning: Update your `Dense` call to the Keras 2 API: `Dense(activation=\"relu\", units=256)`\n",
      "  This is separate from the ipykernel package so we can avoid doing imports until\n",
      "C:\\Users\\Geek\\Anaconda3\\lib\\site-packages\\ipykernel_launcher.py:4: UserWarning: Update your `Dense` call to the Keras 2 API: `Dense(activation=\"relu\", units=128)`\n",
      "  after removing the cwd from sys.path.\n",
      "C:\\Users\\Geek\\Anaconda3\\lib\\site-packages\\ipykernel_launcher.py:5: UserWarning: Update your `Dense` call to the Keras 2 API: `Dense(activation=\"relu\", units=64)`\n",
      "  \"\"\"\n",
      "C:\\Users\\Geek\\Anaconda3\\lib\\site-packages\\ipykernel_launcher.py:6: UserWarning: Update your `Dense` call to the Keras 2 API: `Dense(activation=\"sigmoid\", units=1)`\n",
      "  \n"
     ]
    }
   ],
   "source": [
    "# Add Images To ANN Layer \n",
    "classifier.add(Dense(output_dim=256,activation='relu'))\n",
    "classifier.add(Dense(output_dim=128,activation='relu'))\n",
    "classifier.add(Dense(output_dim=64,activation='relu'))\n",
    "classifier.add(Dense(output_dim=1,activation='sigmoid'))\n"
   ]
  },
  {
   "cell_type": "code",
   "execution_count": 22,
   "metadata": {},
   "outputs": [],
   "source": [
    "# Compile the model\n",
    "classifier.compile(optimizer='adam',loss='binary_crossentropy',metrics=['accuracy'])"
   ]
  },
  {
   "cell_type": "code",
   "execution_count": 75,
   "metadata": {},
   "outputs": [
    {
     "name": "stdout",
     "output_type": "stream",
     "text": [
      "Epoch 1/2\n",
      "20/20 [==============================] - 294s 15s/step - loss: 0.1131 - acc: 0.9589 - val_loss: 0.0535 - val_acc: 0.9938\n",
      "Epoch 2/2\n",
      "20/20 [==============================] - 269s 13s/step - loss: 0.0378 - acc: 0.9922 - val_loss: 0.0453 - val_acc: 0.9938\n"
     ]
    },
    {
     "data": {
      "text/plain": [
       "<keras.callbacks.History at 0x284c1fada90>"
      ]
     },
     "execution_count": 75,
     "metadata": {},
     "output_type": "execute_result"
    }
   ],
   "source": [
    "# train the model\n",
    "classifier.fit_generator(\n",
    "        training_set,\n",
    "        steps_per_epoch=20,\n",
    "        epochs=2,\n",
    "        validation_data=test_set,\n",
    "        validation_steps=10\n",
    ")"
   ]
  },
  {
   "cell_type": "code",
   "execution_count": 78,
   "metadata": {},
   "outputs": [],
   "source": [
    "# Test the model on real time camera\n",
    "cap = cv.VideoCapture(0)\n",
    "face_cascade = cv.CascadeClassifier('haarcascade_frontalface_default.xml')\n",
    "font = cv.FONT_HERSHEY_SIMPLEX \n",
    "  \n",
    "# org \n",
    "org = (50, 50) \n",
    "  \n",
    "# fontScale \n",
    "fontScale = 1\n",
    "   \n",
    "# Blue color in BGR \n",
    "color = (255, 0, 0) \n",
    "  \n",
    "# Line thickness of 2 px \n",
    "thickness = 2\n",
    "while True:\n",
    "    ret , frame = cap.read()\n",
    "    faces = face_cascade.detectMultiScale(frame, 1.1, 4)\n",
    "    for (x, y, w, h) in faces:\n",
    "        cv.rectangle(frame, (x, y), (x+w, y+h), (255, 0, 0), 2)\n",
    "        img_copy = frame[y: y + h, x :x + w ]\n",
    "        img_cc = cv.resize(img_copy,(256, 256,))\n",
    "        image = np.expand_dims(img_cc, axis=0)\n",
    "        y_pred = classifier.predict(image)\n",
    "        if y_pred[0][0] == 1.0:\n",
    "            cv.putText(frame, 'with Mask', org, font,fontScale, color, thickness, cv.LINE_AA)\n",
    "        else:\n",
    "            cv.putText(frame, 'Without Mask', org, font,fontScale, color, thickness, cv.LINE_AA)\n",
    "\n",
    "    cv.imshow(\"frame\",frame)\n",
    "    if cv.waitKey(1) & 0xFF == ord('q'):\n",
    "        break\n",
    "cap.release()\n",
    "cv.destroyAllWindows()"
   ]
  }
 ],
 "metadata": {
  "kernelspec": {
   "display_name": "Python 3",
   "language": "python",
   "name": "python3"
  },
  "language_info": {
   "codemirror_mode": {
    "name": "ipython",
    "version": 3
   },
   "file_extension": ".py",
   "mimetype": "text/x-python",
   "name": "python",
   "nbconvert_exporter": "python",
   "pygments_lexer": "ipython3",
   "version": "3.7.1"
  }
 },
 "nbformat": 4,
 "nbformat_minor": 2
}
