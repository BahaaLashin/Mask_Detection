{
 "cells": [
  {
   "cell_type": "code",
   "execution_count": 28,
   "metadata": {},
   "outputs": [],
   "source": [
    "#import some libraries\n",
    "\n",
    "from keras.models import Sequential\n",
    "from keras.layers import Convolution2D\n",
    "from keras.layers import MaxPool2D\n",
    "from keras.layers import Flatten\n",
    "from keras.layers import Dense"
   ]
  },
  {
   "cell_type": "code",
   "execution_count": 29,
   "metadata": {},
   "outputs": [],
   "source": [
    "# Part 1 Create model Classification\n",
    "\n",
    "classifier = Sequential()\n"
   ]
  },
  {
   "cell_type": "code",
   "execution_count": 30,
   "metadata": {},
   "outputs": [
    {
     "name": "stderr",
     "output_type": "stream",
     "text": [
      "C:\\Users\\Geek\\Anaconda3\\lib\\site-packages\\ipykernel_launcher.py:2: UserWarning: Update your `Conv2D` call to the Keras 2 API: `Conv2D(32, (6, 6), input_shape=(64, 64, 3..., activation=\"relu\")`\n",
      "  \n"
     ]
    }
   ],
   "source": [
    "# Step 1 Convolution layer\n",
    "classifier.add(Convolution2D(32,6,6,input_shape=(64,64,3),activation='relu')) \n"
   ]
  },
  {
   "cell_type": "code",
   "execution_count": 31,
   "metadata": {},
   "outputs": [],
   "source": [
    "# Step 2 Max Pooling\n",
    "classifier.add(MaxPool2D(pool_size=(2,2)))\n"
   ]
  },
  {
   "cell_type": "code",
   "execution_count": 32,
   "metadata": {},
   "outputs": [
    {
     "name": "stderr",
     "output_type": "stream",
     "text": [
      "C:\\Users\\Geek\\Anaconda3\\lib\\site-packages\\ipykernel_launcher.py:2: UserWarning: Update your `Conv2D` call to the Keras 2 API: `Conv2D(32, (6, 6), activation=\"relu\")`\n",
      "  \n"
     ]
    }
   ],
   "source": [
    "# Add Second Convolution Layer\n",
    "classifier.add(Convolution2D(32,6,6,activation='relu')) \n",
    "classifier.add(MaxPool2D(pool_size=(2,2)))"
   ]
  },
  {
   "cell_type": "code",
   "execution_count": 33,
   "metadata": {},
   "outputs": [],
   "source": [
    "classifier.add(Flatten())\n"
   ]
  },
  {
   "cell_type": "code",
   "execution_count": 34,
   "metadata": {},
   "outputs": [
    {
     "name": "stderr",
     "output_type": "stream",
     "text": [
      "C:\\Users\\Geek\\Anaconda3\\lib\\site-packages\\ipykernel_launcher.py:2: UserWarning: Update your `Dense` call to the Keras 2 API: `Dense(activation=\"relu\", units=128)`\n",
      "  \n",
      "C:\\Users\\Geek\\Anaconda3\\lib\\site-packages\\ipykernel_launcher.py:3: UserWarning: Update your `Dense` call to the Keras 2 API: `Dense(activation=\"sigmoid\", units=1)`\n",
      "  This is separate from the ipykernel package so we can avoid doing imports until\n"
     ]
    }
   ],
   "source": [
    "# Add Images To ANN Layer \n",
    "classifier.add(Dense(output_dim=128,activation='relu'))\n",
    "classifier.add(Dense(output_dim=1,activation='sigmoid'))\n"
   ]
  },
  {
   "cell_type": "code",
   "execution_count": 35,
   "metadata": {},
   "outputs": [],
   "source": [
    "# compile\n",
    "classifier.compile(optimizer='adam',loss='binary_crossentropy',metrics=['accuracy'])\n"
   ]
  },
  {
   "cell_type": "code",
   "execution_count": 36,
   "metadata": {},
   "outputs": [
    {
     "name": "stdout",
     "output_type": "stream",
     "text": [
      "Found 6354 images belonging to 2 classes.\n",
      "Found 2000 images belonging to 2 classes.\n"
     ]
    }
   ],
   "source": [
    "# Part 2 data preprocessing import data \n",
    "from keras.preprocessing.image import ImageDataGenerator\n",
    "\n",
    "train_datagen = ImageDataGenerator(\n",
    "        rescale=1./255,\n",
    "        shear_range=0.2,\n",
    "        zoom_range=0.2,\n",
    "        horizontal_flip=True)\n",
    "\n",
    "test_datagen = ImageDataGenerator(rescale=1./255)\n",
    "\n",
    "training_set = train_datagen.flow_from_directory(\n",
    "        'dataset/training_set',\n",
    "        target_size=(64, 64),\n",
    "        batch_size=32,\n",
    "        class_mode='binary')\n",
    "\n",
    "test_set = test_datagen.flow_from_directory(\n",
    "        'dataset/test_set',\n",
    "        target_size=(64, 64),\n",
    "        batch_size=32,\n",
    "        class_mode='binary')\n"
   ]
  },
  {
   "cell_type": "code",
   "execution_count": 37,
   "metadata": {},
   "outputs": [
    {
     "name": "stdout",
     "output_type": "stream",
     "text": [
      "Epoch 1/20\n",
      "2000/2000 [==============================] - 811s 406ms/step - loss: 0.5801 - acc: 0.6921 - val_loss: 0.6514 - val_acc: 0.6599\n",
      "Epoch 2/20\n",
      "2000/2000 [==============================] - 810s 405ms/step - loss: 0.4112 - acc: 0.8099 - val_loss: 0.5289 - val_acc: 0.7642\n",
      "Epoch 3/20\n",
      "2000/2000 [==============================] - 792s 396ms/step - loss: 0.2726 - acc: 0.8844 - val_loss: 0.6987 - val_acc: 0.7471\n",
      "Epoch 4/20\n",
      "2000/2000 [==============================] - 788s 394ms/step - loss: 0.1722 - acc: 0.9318 - val_loss: 0.8491 - val_acc: 0.7596\n",
      "Epoch 5/20\n",
      "2000/2000 [==============================] - 769s 384ms/step - loss: 0.1176 - acc: 0.9562 - val_loss: 0.9449 - val_acc: 0.7700\n",
      "Epoch 6/20\n",
      "2000/2000 [==============================] - 767s 383ms/step - loss: 0.0877 - acc: 0.9679 - val_loss: 1.0668 - val_acc: 0.7595\n",
      "Epoch 7/20\n",
      "2000/2000 [==============================] - 2166s 1s/step - loss: 0.0669 - acc: 0.9764 - val_loss: 1.3767 - val_acc: 0.7556\n",
      "Epoch 8/20\n",
      "2000/2000 [==============================] - 839s 420ms/step - loss: 0.0606 - acc: 0.9790 - val_loss: 1.4351 - val_acc: 0.7499\n",
      "Epoch 9/20\n",
      "2000/2000 [==============================] - 836s 418ms/step - loss: 0.0522 - acc: 0.9816 - val_loss: 1.4324 - val_acc: 0.7545\n",
      "Epoch 10/20\n",
      "2000/2000 [==============================] - 826s 413ms/step - loss: 0.0486 - acc: 0.9835 - val_loss: 1.3704 - val_acc: 0.7596\n",
      "Epoch 11/20\n",
      "2000/2000 [==============================] - 837s 418ms/step - loss: 0.0419 - acc: 0.9861 - val_loss: 1.5533 - val_acc: 0.7475\n",
      "Epoch 12/20\n",
      "2000/2000 [==============================] - 779s 389ms/step - loss: 0.0433 - acc: 0.9856 - val_loss: 1.5183 - val_acc: 0.7569\n",
      "Epoch 13/20\n",
      "2000/2000 [==============================] - 762s 381ms/step - loss: 0.0390 - acc: 0.9869 - val_loss: 1.5909 - val_acc: 0.7565\n",
      "Epoch 14/20\n",
      "2000/2000 [==============================] - 2926s 1s/step - loss: 0.0340 - acc: 0.9887 - val_loss: 1.5569 - val_acc: 0.7525\n",
      "Epoch 15/20\n",
      "2000/2000 [==============================] - 763s 382ms/step - loss: 0.0316 - acc: 0.9902 - val_loss: 1.6430 - val_acc: 0.7503\n",
      "Epoch 16/20\n",
      "2000/2000 [==============================] - 809s 405ms/step - loss: 0.0330 - acc: 0.9895 - val_loss: 1.6854 - val_acc: 0.7555\n",
      "Epoch 17/20\n",
      "2000/2000 [==============================] - 816s 408ms/step - loss: 0.0286 - acc: 0.9910 - val_loss: 1.6639 - val_acc: 0.7643\n",
      "Epoch 18/20\n",
      "2000/2000 [==============================] - 817s 409ms/step - loss: 0.0298 - acc: 0.9906 - val_loss: 1.6041 - val_acc: 0.7501\n",
      "Epoch 19/20\n",
      "2000/2000 [==============================] - 841s 421ms/step - loss: 0.0266 - acc: 0.9911 - val_loss: 1.6587 - val_acc: 0.7636\n",
      "Epoch 20/20\n",
      "2000/2000 [==============================] - 896s 448ms/step - loss: 0.0248 - acc: 0.9924 - val_loss: 1.9341 - val_acc: 0.7566\n"
     ]
    },
    {
     "data": {
      "text/plain": [
       "<keras.callbacks.History at 0x20bd6cf99e8>"
      ]
     },
     "execution_count": 37,
     "metadata": {},
     "output_type": "execute_result"
    }
   ],
   "source": [
    "classifier.fit_generator(\n",
    "        training_set,\n",
    "        steps_per_epoch=2000,\n",
    "        epochs=20,\n",
    "        validation_data=test_set,\n",
    "        validation_steps=2000)"
   ]
  },
  {
   "cell_type": "code",
   "execution_count": null,
   "metadata": {},
   "outputs": [],
   "source": []
  }
 ],
 "metadata": {
  "kernelspec": {
   "display_name": "Python 3",
   "language": "python",
   "name": "python3"
  },
  "language_info": {
   "codemirror_mode": {
    "name": "ipython",
    "version": 3
   },
   "file_extension": ".py",
   "mimetype": "text/x-python",
   "name": "python",
   "nbconvert_exporter": "python",
   "pygments_lexer": "ipython3",
   "version": "3.7.1"
  }
 },
 "nbformat": 4,
 "nbformat_minor": 2
}
